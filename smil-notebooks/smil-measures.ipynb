{
 "cells": [
  {
   "cell_type": "markdown",
   "metadata": {},
   "source": [
    "# Doing Measures on Images"
   ]
  },
  {
   "cell_type": "code",
   "execution_count": null,
   "metadata": {},
   "outputs": [],
   "source": [
    "# import smilPython \n",
    "import smilPython as sp\n",
    "# functions using matplotlib to display images on jupyter notebooks\n",
    "from smilPyGoodies import *\n",
    "\n",
    "import numpy as np"
   ]
  },
  {
   "cell_type": "markdown",
   "metadata": {},
   "source": [
    "## Let's begin\n"
   ]
  },
  {
   "cell_type": "code",
   "execution_count": null,
   "metadata": {},
   "outputs": [],
   "source": [
    "# Load an image\n",
    "imIn = sp.Image(\"images/DNA_small.png\")\n",
    "#imIn.show()\n",
    " \n",
    "imThr = sp.Image(imIn)\n",
    "sp.threshold(imIn, imThr)\n",
    " \n",
    "imLbl = sp.Image(imIn, \"UINT16\")\n",
    "sp.label(imThr, imLbl)\n",
    "\n",
    "ImShow([imIn, imLbl], fakeColor = [False, True])"
   ]
  },
  {
   "cell_type": "code",
   "execution_count": null,
   "metadata": {},
   "outputs": [],
   "source": [
    "\n",
    "# Bounding boxes\n",
    "bboxes = sp.measBoundBoxes(imLbl)\n",
    "imRec = sp.Image(imIn)\n",
    "#sp.drawRectangles(imRec, bboxes)\n",
    "imIn.getViewer().drawOverlay(imRec)\n",
    "\n",
    "# Blobs measures\n",
    "blobs = sp.computeBlobs(imLbl)\n",
    "# areas\n",
    "areas = sp.measAreas(blobs) # equivalent but faster than measAreas(imLbl)\n",
    "# barycenters\n",
    "barys = sp.measBarycenters(imLbl, blobs)\n",
    "# volume of blobs in imIn\n",
    "vols  = sp.measVolumes(imIn, blobs)\n",
    "\n",
    "# Print results\n",
    "print(\"{0:5s}  {1:6s}  {2:8s}  {3:s}\".format(\"Label\", \" Area\", \" Volume\", \" Barycenter (x,y)\"))\n",
    "for lbl in blobs.keys():\n",
    "  print(\"{0:5d}  {1:6.1f}  {2:8.1f}  ( {3:8.3f} {4:8.3f} )\".\n",
    "        format(lbl, areas[lbl], vols[lbl], barys[lbl][0], barys[lbl][1]))"
   ]
  },
  {
   "cell_type": "code",
   "execution_count": null,
   "metadata": {},
   "outputs": [],
   "source": []
  }
 ],
 "metadata": {
  "kernelspec": {
   "display_name": "Python 3",
   "language": "python",
   "name": "python3"
  },
  "language_info": {
   "codemirror_mode": {
    "name": "ipython",
    "version": 3
   },
   "file_extension": ".py",
   "mimetype": "text/x-python",
   "name": "python",
   "nbconvert_exporter": "python",
   "pygments_lexer": "ipython3",
   "version": "3.6.9"
  }
 },
 "nbformat": 4,
 "nbformat_minor": 2
}
