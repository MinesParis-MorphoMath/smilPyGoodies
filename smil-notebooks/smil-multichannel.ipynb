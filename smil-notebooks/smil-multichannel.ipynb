{
 "cells": [
  {
   "cell_type": "markdown",
   "metadata": {},
   "source": [
    "# Working on multichannel images"
   ]
  },
  {
   "cell_type": "code",
   "execution_count": null,
   "metadata": {},
   "outputs": [],
   "source": [
    "# import smilPython \n",
    "import smilPython as sp\n",
    "# functions using matplotlib to display images on jupyter notebooks\n",
    "from smilPyGoodies import *\n",
    "\n",
    "import numpy as np\n",
    "\n",
    "# some paths\n",
    "imagesDir  = \"images/\""
   ]
  },
  {
   "cell_type": "markdown",
   "metadata": {},
   "source": [
    "## Let's begin\n"
   ]
  },
  {
   "cell_type": "code",
   "execution_count": null,
   "metadata": {},
   "outputs": [],
   "source": [
    "# Load a RGB image\n",
    "im1 = sp.Image(\"images/arearea.png\")\n",
    "ImShow([im1], titles = [\"Original Image\"])\n",
    "\n",
    "# Copy the green channel into a UINT8 image\n",
    "im2 = sp.Image()\n",
    "sp.copyChannel(im1, 1, im2)\n",
    " \n",
    "# Split RGB channels into a 3D UINT8 image with 3 slices (one for each channel)\n",
    "im3 = sp.Image()\n",
    "sp.splitChannels(im1, im3)\n",
    " \n",
    "# Perform a 2D dilation on the slices\n",
    "im4 = sp.Image(im3)\n",
    "sp.dilate(im3, im4)\n",
    " \n",
    "# And merge the result into a RGB image\n",
    "im5 = sp.Image(im1)\n",
    "sp.mergeChannels(im4, im5)\n",
    "ImShow([im2, im3], titles = [\"Vert Channel\", \"Three Channel Image\"])\n",
    "ImShow([im4, im5], titles = [\"Dilation on sliced image\", \"Merged Image\"])"
   ]
  },
  {
   "cell_type": "code",
   "execution_count": null,
   "metadata": {},
   "outputs": [],
   "source": []
  }
 ],
 "metadata": {
  "kernelspec": {
   "display_name": "Python 3",
   "language": "python",
   "name": "python3"
  },
  "language_info": {
   "codemirror_mode": {
    "name": "ipython",
    "version": 3
   },
   "file_extension": ".py",
   "mimetype": "text/x-python",
   "name": "python",
   "nbconvert_exporter": "python",
   "pygments_lexer": "ipython3",
   "version": "3.6.9"
  }
 },
 "nbformat": 4,
 "nbformat_minor": 2
}
