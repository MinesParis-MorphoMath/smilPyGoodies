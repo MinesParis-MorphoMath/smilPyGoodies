{
 "cells": [
  {
   "cell_type": "markdown",
   "metadata": {},
   "source": [
    "# Copy and Crop images"
   ]
  },
  {
   "cell_type": "markdown",
   "metadata": {},
   "source": [
    "### Initialization"
   ]
  },
  {
   "cell_type": "code",
   "execution_count": null,
   "metadata": {},
   "outputs": [],
   "source": [
    "# import smilPython \n",
    "import smilPython as sp\n",
    "# functions using matplotlib to display images on jupyter notebooks\n",
    "from smilPyGoodies import *\n",
    "\n",
    "import numpy as np"
   ]
  },
  {
   "cell_type": "markdown",
   "metadata": {},
   "source": [
    "## Let's get some images to work on...\n"
   ]
  },
  {
   "cell_type": "code",
   "execution_count": null,
   "metadata": {},
   "outputs": [],
   "source": [
    "imIn1 = sp.Image(\"images/barbara.png\")\n",
    "imIn2 = sp.Image(\"images/lena.png\")\n",
    "\n",
    "ImShow([imIn1, imIn2], titles = [\"im1\", \"im2\"])\n",
    "\n",
    "im1 = sp.Image(imIn1)\n",
    "sp.copy(imIn1, im1)\n",
    "im2 = sp.Image(imIn2)\n",
    "sp.copy(imIn2, im2)\n",
    "im3 = sp.Image(imIn1)\n",
    "\n",
    "# Crop the content of im1 from (256, 0) to im3 (which will be resized)\n",
    "sp.crop(imIn1, 256, 0, 256, 256, im3)\n",
    " \n",
    "# Copy the content of im2 and put it at position (0, 256) in im1\n",
    "sp.copy(imIn2, im1, 0, 256)\n",
    " \n",
    "# Copy the window starting at (256, 0) and with dimensions 128x128 and put it at (128, 128) in im2\n",
    "sp.copy(im1, 256, 0, 128, 128, im2, 128, 128)\n",
    "# Same as previous (simple way)\n",
    "sp.copy(im1, 256, 0, im2, 128, 128)\n",
    "\n",
    "ImShow([im1, im2, im3])"
   ]
  },
  {
   "cell_type": "code",
   "execution_count": null,
   "metadata": {},
   "outputs": [],
   "source": [
    "# Create a 3D image (three layers) and copy slices inside it\n",
    "im3D = sp.Image(im2.getWidth(), im2.getHeight(), 3)\n",
    "im3D << 0\n",
    "sp.copy(im1, 0, 256, im3D)\n",
    "sp.copy(im3, im3D, 0, 0, 2)\n",
    "sp.close(im3D, im3D, sp.cbSE())\n",
    "\n",
    "# Unfortunately, we can't easily display here a 3D image.\n",
    "ImShow([im3D])"
   ]
  },
  {
   "cell_type": "code",
   "execution_count": null,
   "metadata": {},
   "outputs": [],
   "source": []
  }
 ],
 "metadata": {
  "kernelspec": {
   "display_name": "Python 3",
   "language": "python",
   "name": "python3"
  },
  "language_info": {
   "codemirror_mode": {
    "name": "ipython",
    "version": 3
   },
   "file_extension": ".py",
   "mimetype": "text/x-python",
   "name": "python",
   "nbconvert_exporter": "python",
   "pygments_lexer": "ipython3",
   "version": "3.6.9"
  }
 },
 "nbformat": 4,
 "nbformat_minor": 2
}
