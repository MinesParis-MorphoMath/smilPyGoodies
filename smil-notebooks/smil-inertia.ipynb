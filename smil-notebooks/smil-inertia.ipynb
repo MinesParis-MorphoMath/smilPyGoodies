{
 "cells": [
  {
   "cell_type": "markdown",
   "metadata": {},
   "source": [
    "\n",
    "# Moments of Inertia"
   ]
  },
  {
   "cell_type": "code",
   "execution_count": null,
   "metadata": {},
   "outputs": [],
   "source": [
    "# import smilPython \n",
    "import smilPython as sp\n",
    "\n",
    "# functions using matplotlib to display images on jupyter notebooks\n",
    "from smilPyGoodies import *\n",
    "\n",
    "import numpy as np"
   ]
  },
  {
   "cell_type": "markdown",
   "metadata": {},
   "source": [
    "## Let's begin\n"
   ]
  },
  {
   "cell_type": "code",
   "execution_count": null,
   "metadata": {},
   "outputs": [],
   "source": [
    "from math import *\n",
    " \n",
    "# Load an image\n",
    "imIn = sp.Image(\"images/tools.png\")\n",
    "\n",
    "imThr = sp.Image(imIn)\n",
    "sp.topHat(imIn, imThr, sp.hSE(20))\n",
    "sp.threshold(imThr, imThr)\n",
    "\n",
    "imLbl = sp.Image(imIn, \"UINT16\")\n",
    "sp.label(imThr, imLbl)\n",
    "\n",
    "ImShow([imIn, imThr, imLbl], fakeColor = [False, False, True], titles = [\"imIn\", \"imThr\", \"imLbl\"])"
   ]
  },
  {
   "cell_type": "code",
   "execution_count": null,
   "metadata": {},
   "outputs": [],
   "source": [
    "def fitRectangle(mat):\n",
    "    m00, m10, m01, m11, m20, m02 = mat\n",
    "\n",
    "    if m00 == 0:\n",
    "      return 0, 0, 0, 0, 0\n",
    "\n",
    "    # COM\n",
    "    xc = int (m10 / m00)\n",
    "    yc = int (m01 / m00)\n",
    "\n",
    "    # centered matrix (central moments)\n",
    "    u00 = m00\n",
    "    u20 = m20 - m10**2 / m00\n",
    "    u02 = m02 - m01**2 / m00\n",
    "    u11 = m11 - m10 * m01 / m00\n",
    "\n",
    "    # eigen values\n",
    "    delta = 4 * u11**2 + (u20 - u02)**2\n",
    "    I1 = (u20 + u02 + sqrt(delta)) / 2\n",
    "    I2 = (u20 + u02 - sqrt(delta)) / 2\n",
    "\n",
    "    theta = 0.5 * atan2(-2 * u11, (u20 - u02))\n",
    "\n",
    "    # Equivalent rectangle\n",
    "    # I1 = a**2 * S / 12, I2 = b**2 * S / 12\n",
    "    a = int (sqrt(12 * I1 / u00))\n",
    "    b = int (sqrt(12 * I2 / u00))\n",
    "\n",
    "    return xc, yc, a, b, theta"
   ]
  },
  {
   "cell_type": "code",
   "execution_count": null,
   "metadata": {},
   "outputs": [],
   "source": [
    "# Compute Blobs\n",
    "blobs = sp.computeBlobs(imLbl)\n",
    "\n",
    "# Compute Inertia Matrices\n",
    "mats   = sp.measImageBlobsMoments(imIn, blobs)\n",
    "bboxes = sp.measBoundBoxes(imLbl)"
   ]
  },
  {
   "cell_type": "code",
   "execution_count": null,
   "metadata": {},
   "outputs": [],
   "source": [
    "imDraw = sp.Image(imIn)\n",
    "\n",
    "print(\"{0:5s} | {1:5s} | {2:5s} | {3:7s}\".format(\"Label\", \"  A\", \"  B\", \"Theta\"))\n",
    "for b in blobs.keys():\n",
    "    mat = xc, yc, A, B, theta = fitRectangle(mats[b])\n",
    "    print(\"{0:5d} | {1:5d} | {2:5d} | {3:7.4f}\".format(b, A, B, theta))\n",
    "    dx = A / 2 * cos(pi - theta)\n",
    "    dy = A / 2 * sin(pi - theta)\n",
    "    sp.drawLine(imDraw, int(xc - dx), int(yc - dy), int(xc + dx), int(yc + dy), b)\n",
    "    dx = B / 2 * sin(theta)\n",
    "    dy = B / 2 * cos(theta)\n",
    "    sp.drawLine(imDraw, int(xc - dx), int(yc - dy), int(xc + dx), int(yc + dy), b)"
   ]
  },
  {
   "cell_type": "code",
   "execution_count": null,
   "metadata": {},
   "outputs": [],
   "source": [
    "ImShow([imIn, imDraw], fakeColor = [False, True], titles = [\"Original\", \"Inertia\"])"
   ]
  },
  {
   "cell_type": "code",
   "execution_count": null,
   "metadata": {},
   "outputs": [],
   "source": []
  }
 ],
 "metadata": {
  "kernelspec": {
   "display_name": "Python 3",
   "language": "python",
   "name": "python3"
  },
  "language_info": {
   "codemirror_mode": {
    "name": "ipython",
    "version": 3
   },
   "file_extension": ".py",
   "mimetype": "text/x-python",
   "name": "python",
   "nbconvert_exporter": "python",
   "pygments_lexer": "ipython3",
   "version": "3.6.9"
  }
 },
 "nbformat": 4,
 "nbformat_minor": 2
}
