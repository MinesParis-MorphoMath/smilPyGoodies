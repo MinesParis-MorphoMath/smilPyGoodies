{
 "cells": [
  {
   "cell_type": "markdown",
   "metadata": {},
   "source": [
    "# Hit or Miss"
   ]
  },
  {
   "cell_type": "code",
   "execution_count": null,
   "metadata": {},
   "outputs": [],
   "source": [
    "# import smilPython \n",
    "import smilPython as sp\n",
    "import numpy as np\n",
    "# functions using matplotlib to display images on jupyter notebooks\n",
    "from smilPyGoodies import *"
   ]
  },
  {
   "cell_type": "markdown",
   "metadata": {},
   "source": [
    "## Let's begin\n"
   ]
  },
  {
   "cell_type": "code",
   "execution_count": null,
   "metadata": {},
   "outputs": [],
   "source": [
    "# Load an image\n",
    "im1 = sp.Image(\"images/balls.png\")\n",
    " \n",
    "# Create the skeleton using a thinning with a combination of the 4 rotations of the composite SE sL1 and sL2\n",
    "im2 = sp.Image(im1)\n",
    "sp.fullThin(im1, sp.HMT_sL1(4) | sp.HMT_sL2(4), im2)\n",
    "\n",
    "ImShow([im1, im2], titles = [\"im1\", \"im2\"])"
   ]
  },
  {
   "cell_type": "code",
   "execution_count": null,
   "metadata": {},
   "outputs": [],
   "source": [
    "# Detect line junctions\n",
    "im3 = sp.Image(im1)\n",
    "sp.hitOrMiss(im2, sp.HMT_sLineJunc(8), im3)\n",
    " \n",
    "# Detect line ends\n",
    "im4 = sp.Image(im1)\n",
    "sp.hitOrMiss(im2, sp.HMT_sLineEnd(8), im4)\n",
    " \n",
    "# Modify results for display...\n",
    "sp.dilate(im3, im3, sp.hSE())\n",
    "sp.dilate(im4, im4, sp.hSE())\n",
    "sp.inf(im3, 1, im3)\n",
    "sp.inf(im4, 3, im4)\n",
    "sp.sup(im3, im4, im4)\n",
    " \n",
    "im2.getViewer().drawOverlay(im4)\n",
    "\n",
    "ImShow([im3, im4], titles = [\"im3\", \"im4\"], fakeColor = [True, True])"
   ]
  },
  {
   "cell_type": "code",
   "execution_count": null,
   "metadata": {},
   "outputs": [],
   "source": []
  }
 ],
 "metadata": {
  "kernelspec": {
   "display_name": "Python 3",
   "language": "python",
   "name": "python3"
  },
  "language_info": {
   "codemirror_mode": {
    "name": "ipython",
    "version": 3
   },
   "file_extension": ".py",
   "mimetype": "text/x-python",
   "name": "python",
   "nbconvert_exporter": "python",
   "pygments_lexer": "ipython3",
   "version": "3.6.9"
  }
 },
 "nbformat": 4,
 "nbformat_minor": 2
}
