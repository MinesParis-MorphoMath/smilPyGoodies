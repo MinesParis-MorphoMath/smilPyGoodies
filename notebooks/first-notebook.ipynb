{
 "cells": [
  {
   "cell_type": "code",
   "execution_count": null,
   "metadata": {},
   "outputs": [],
   "source": [
    "import smilPython as sp\n",
    "from smilPlot import *\n",
    "import numpy as np"
   ]
  },
  {
   "cell_type": "code",
   "execution_count": null,
   "metadata": {},
   "outputs": [],
   "source": [
    "im = sp.Image(256, 256)\n",
    "p = im.getNumArray()\n",
    "for i in range(0, 256):\n",
    "    for j in range(0, 256):\n",
    "      p[i,j] = (i + j) % 256"
   ]
  },
  {
   "cell_type": "code",
   "execution_count": null,
   "metadata": {},
   "outputs": [],
   "source": [
    "smilPlot([im], [False, False])"
   ]
  },
  {
   "cell_type": "code",
   "execution_count": null,
   "metadata": {},
   "outputs": [],
   "source": [
    "smilPlot([im, im], [False, False])"
   ]
  },
  {
   "cell_type": "code",
   "execution_count": null,
   "metadata": {
    "scrolled": true
   },
   "outputs": [],
   "source": [
    "smilPlot([im, im, im, im, im], [False, True])\n",
    "smilPlot([im, im, im, im, im, im], [False, True])"
   ]
  },
  {
   "cell_type": "markdown",
   "metadata": {},
   "source": [
    "# Hello\n",
    "## Hello 2\n",
    "### Hello 3\n",
    "\n",
    "    My markdown text"
   ]
  },
  {
   "cell_type": "code",
   "execution_count": null,
   "metadata": {},
   "outputs": [],
   "source": [
    "a = 1\n",
    "for i in range(0,10):\n",
    "    print(\"Hello world - {:3d} !!!\".format(i))"
   ]
  },
  {
   "cell_type": "code",
   "execution_count": null,
   "metadata": {},
   "outputs": [],
   "source": [
    "from smilPython import *\n",
    " \n",
    "# Load an image\n",
    "im1 = Image(\"http://smil.cmm.mines-paristech.fr/images/lena.png\")\n",
    " \n",
    "# Manual threshold (between 100 and 255)\n",
    "im2 = Image(im1)\n",
    "threshold(im1, 100, 255, im2)\n",
    "\n",
    "# Otsu automatic threshold\n",
    "im3 = Image(im1)\n",
    "# Generate two threshold values (i.e. 3 classes)\n",
    "otsuThreshold(im1, im3, 2)\n",
    "# Display the resulting image with three labels values corresponding to the three classes\n",
    "smilPlot([im1, im2, im3], [False, True, True])"
   ]
  },
  {
   "cell_type": "code",
   "execution_count": null,
   "metadata": {},
   "outputs": [],
   "source": [
    "from smilPython import *\n",
    " \n",
    "# Load a RGB image\n",
    "im1 = Image(\"http://smil.cmm.mines-paristech.fr/images/arearea.png\")\n",
    " \n",
    "# Copy the green channel into a UINT8 image\n",
    "im2 = Image()\n",
    "copyChannel(im1, 1, im2)\n",
    "\n",
    "smilPlot([im1, im2])\n",
    "\n",
    "# Split RGB channels into a 3D UINT8 image with 3 slices (one for each channel)\n",
    "im3 = Image()\n",
    "splitChannels(im1, im3)\n",
    "\n",
    "# Perform a 2D dilation on the slices\n",
    "im4 = Image(im3)\n",
    "dilate(im3, im4)\n",
    " \n",
    "# And merge the result into a RGB image\n",
    "im5 = Image(im1)\n",
    "mergeChannels(im4, im5)\n",
    "\n",
    "smilPlot([im3, im4, im5])\n"
   ]
  },
  {
   "cell_type": "code",
   "execution_count": null,
   "metadata": {},
   "outputs": [],
   "source": [
    "from smilPython import *\n",
    " \n",
    "sx = 1024\n",
    "sy = 1024\n",
    "bench_nruns = 1E3\n",
    " \n",
    "# Load an image\n",
    "imIn = Image(\"http://smil.cmm.mines-paristech.fr/images/DNA_small.png\")\n",
    " \n",
    "im1 = Image(sx, sy)\n",
    "im2 = Image(im1)\n",
    "im3 = Image(im1)\n",
    " \n",
    "resize(imIn, im1)\n",
    " \n",
    "print(\"*** Base ***\")\n",
    "bench(copy, im1, im2)\n",
    "bench(fill,im2, 0)\n",
    "bench(inv, im1, im2)\n",
    "bench(add, im1, im2, im3)\n",
    "bench(sub, im1, im2, im3)\n",
    "bench(mul, im1, im2, im3)\n",
    "bench(div, im1, im2, im3)\n",
    " \n",
    "print(\"\\n*** Arithmetic ***\")\n",
    "bench(inf, im1, im2, im3)\n",
    "bench(sup, im1, im2, im3)\n",
    "bench(equ, im1, im2, im3)\n",
    "bench(low, im1, im2, im3)\n",
    " \n",
    "print(\"\\n*** Morphology ***\")\n",
    "bench(dilate, im1, im2, hSE(1))\n",
    "bench(dilate, im1, im2, sSE(1))\n",
    "bench(dilate, im1, im2, CrossSE(1))\n",
    "bench(open, im1, im2, hSE(1))\n",
    "bench(open, im1, im2, sSE(1))\n",
    "bench(open, im1, im2, CrossSE(1))"
   ]
  },
  {
   "cell_type": "code",
   "execution_count": null,
   "metadata": {},
   "outputs": [],
   "source": [
    "from smilPython import *\n",
    " \n",
    "im1 = Image(\"http://smil.cmm.mines-paristech.fr/images/mosaic.png\")\n",
    "im2 = Image(im1)\n",
    "im3 = Image(im1)\n",
    "imMos = Image(im1, \"UINT16\")\n",
    "imArea = Image(imMos)\n",
    "imSeg = Image(imMos)\n",
    " \n",
    "label(im1, imMos)\n",
    "labelWithArea(im1, imArea)\n",
    " \n",
    "g = mosaicToGraph(imMos, imArea)\n",
    " \n",
    "drawGraph(imMos, g, imSeg)\n",
    "imMos.getViewer().drawOverlay(imSeg)\n",
    " \n",
    "g.removeNodeEdges(3)\n",
    "graphToMosaic(imMos, g, imSeg)\n",
    " \n",
    "# im1.show()\n",
    "smilPlot([im1, im2, im3], [False, False, True])\n",
    "#imMos.showLabel()\n",
    "#imSeg.showLabel()"
   ]
  },
  {
   "cell_type": "code",
   "execution_count": null,
   "metadata": {},
   "outputs": [],
   "source": [
    "from smilPython import *\n",
    " \n",
    "im1 = Image(\"http://smil.cmm.mines-paristech.fr/images/mosaic.png\")\n",
    "im2 = Image(im1)\n",
    "im3 = Image(im1)\n",
    "imMos = Image(im1, \"UINT16\")\n",
    "imArea = Image(imMos)\n",
    "imSeg = Image(imMos)\n",
    " \n",
    "label(im1, imMos)\n",
    "labelWithArea(im1, imArea)\n",
    " \n",
    "g = mosaicToGraph(imMos, imArea)\n",
    " \n",
    "drawGraph(imMos, g, imSeg)\n",
    "imMos.getViewer().drawOverlay(imSeg)\n",
    " \n",
    "g.removeNodeEdges(3)\n",
    "graphToMosaic(imMos, g, imSeg)\n",
    " \n",
    "smilPlot([im1, imMos, imSeg], [False, True, True])\n",
    "#im1.show()\n",
    "#imMos.showLabel()\n",
    "#imSeg.showLabel()"
   ]
  },
  {
   "cell_type": "code",
   "execution_count": null,
   "metadata": {},
   "outputs": [],
   "source": [
    "from smilPython import *\n",
    "import time\n",
    " \n",
    "# Load an image\n",
    "imIn= Image(\"http://smil.cmm.mines-paristech.fr/images/DNA_small.png\")\n",
    "imThresh = Image(imIn)\n",
    "imDist = Image(imIn)\n",
    " \n",
    "#imIn.show()\n",
    "#imThresh.show()\n",
    "#imDist.showLabel()\n",
    " \n",
    "def displMax():\n",
    "  print(\"Distance max value: \" + str(rangeVal(imDist)[1]))\n",
    " \n",
    "links = linkManager()\n",
    "links.add(imIn, threshold, imIn, 255, imThresh)\n",
    "links.add(imThresh, dist, imThresh, imDist)\n",
    "links.add(imDist, displMax)\n",
    " \n",
    "for i in range(1, 10):\n",
    "  print(\"\\nThreshold level: \" + str(i*10))\n",
    "  links[0].args[1] = i*10\n",
    "  time.sleep(1)\n",
    "  smilPlot([imIn, imThresh, imDist], [False, False, True])"
   ]
  },
  {
   "cell_type": "code",
   "execution_count": null,
   "metadata": {},
   "outputs": [],
   "source": [
    "from smilPython import *\n",
    " \n",
    "# Load an image\n",
    "im1 = Image(\"http://smil.cmm.mines-paristech.fr/images/lena.png\")\n",
    "#im1.show()\n",
    " \n",
    "im2 = Image(im1)\n",
    "# Mask of im1>0:\n",
    "# im1 > 100 returns an image = 255 when im1>100 and = 0 otherwise\n",
    "# take the result and make the inf (&) with the original image\n",
    "im2 << ( (im1>100) & im1 )\n",
    "#im2.show()\n",
    " \n",
    "im3 = Image(im1)\n",
    "sePts = ((0,0), (0,1), (1,1), (1,0), (-1,1), (-1,0), (-1,-1), (0,-1), (1,-1))\n",
    "# Fill 0\n",
    "im3 << 0\n",
    "# Take the sup with each translation of im1...\n",
    "for (dx,dy) in sePts:\n",
    "    im3 |= trans(im1, dx, dy)\n",
    "#im3.show()\n",
    "smilPlot([im1, im2, im3])"
   ]
  },
  {
   "cell_type": "markdown",
   "metadata": {},
   "source": [
    "### Blob measures"
   ]
  },
  {
   "cell_type": "code",
   "execution_count": null,
   "metadata": {},
   "outputs": [],
   "source": [
    "from smilPython import *\n",
    " \n",
    "# Load an image\n",
    "imIn = Image(\"http://smil.cmm.mines-paristech.fr/images/DNA_small.png\")\n",
    "# imIn.show()\n",
    "#smilPlot([imIn])\n",
    " \n",
    "imThr = Image(imIn)\n",
    "threshold(imIn, imThr)\n",
    "\n",
    "imLbl = Image(imIn, \"UINT16\")\n",
    "label(imThr, imLbl)\n",
    "smilPlot([imIn, imThr, imLbl], [False, False, True])\n",
    "#imLbl.showLabel()\n",
    "\n",
    "# Bounding boxes\n",
    "bboxes = measBoundBoxes(imLbl)\n",
    "imRec = Image(imIn)\n",
    "drawRectangles(imRec, bboxes)\n",
    "imIn.getViewer().drawOverlay(imRec)\n",
    "\n",
    "# Blobs measures\n",
    "blobs = computeBlobs(imLbl)\n",
    "# areas\n",
    "areas = measAreas(imLbl, blobs) # equivalent but faster than measAreas(imLbl)\n",
    "# barycenters\n",
    "barys = measBarycenters(imLbl, blobs)\n",
    "# volume of blobs in imIn\n",
    "vols  = measVolumes(imIn, blobs)\n",
    "print(\"Label\\tarea\\tvolume\\tbarycenter (x,y)\")\n",
    "for lbl in blobs.keys():\n",
    "  print(str(lbl) + \"\\t\" + str(areas[lbl]) + \"\\t\" + str(vols[lbl]) + \"\\t\" + str(barys[lbl]))"
   ]
  },
  {
   "cell_type": "code",
   "execution_count": null,
   "metadata": {},
   "outputs": [],
   "source": []
  }
 ],
 "metadata": {
  "kernelspec": {
   "display_name": "Python 3",
   "language": "python",
   "name": "python3"
  },
  "language_info": {
   "codemirror_mode": {
    "name": "ipython",
    "version": 3
   },
   "file_extension": ".py",
   "mimetype": "text/x-python",
   "name": "python",
   "nbconvert_exporter": "python",
   "pygments_lexer": "ipython3",
   "version": "3.6.7"
  }
 },
 "nbformat": 4,
 "nbformat_minor": 2
}
