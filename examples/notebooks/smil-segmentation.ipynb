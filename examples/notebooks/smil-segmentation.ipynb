{
 "cells": [
  {
   "cell_type": "markdown",
   "metadata": {},
   "source": [
    "# Image segmentation"
   ]
  },
  {
   "cell_type": "code",
   "execution_count": null,
   "metadata": {},
   "outputs": [],
   "source": [
    "# import smilPython \n",
    "import smilPython as sp\n",
    "# functions using matplotlib to display images on jupyter notebooks\n",
    "from smilPlot import *"
   ]
  },
  {
   "cell_type": "code",
   "execution_count": null,
   "metadata": {},
   "outputs": [],
   "source": [
    "fgray = \"DNA_small.png\"\n",
    "fgray = \"chromoso.png\"\n",
    "# fgray = \"salt.png\"\n",
    "\n",
    "img   = sp.Image(grayDir + fgray)\n",
    "print(fgray + \"\\n------------\\n\", img)\n",
    "# structuring element et sa taille\n",
    "se   = sp.HexSE()\n",
    "seSz = 4"
   ]
  },
  {
   "cell_type": "code",
   "execution_count": null,
   "metadata": {
    "scrolled": true
   },
   "outputs": [],
   "source": [
    "# Some kind of filtering on the input image\n",
    "imgFilter = sp.Image(img)\n",
    "sp.open(img, imgFilter, se(3))\n",
    "# Gradient \n",
    "imgGrad = sp.Image(img)\n",
    "sp.gradient(imgFilter, imgGrad, se(1))\n",
    "smilPlot([img, imgFilter, imgGrad],\n",
    "        title = [\"Original\", \"Filtered (open)\", \"Gradient\"])"
   ]
  },
  {
   "cell_type": "code",
   "execution_count": null,
   "metadata": {},
   "outputs": [],
   "source": [
    "imgMin = sp.Image(img)\n",
    "sp.hMinima(imgGrad, 15, imgMin, se())\n",
    "\n",
    "imgLabel = sp.Image(img, 'UINT16')\n",
    "sp.label(imgMin, imgLabel, se())\n",
    "smilPlot([img, imgGrad, imgMin, imgLabel], \n",
    "         label = [False, False, False, True],\n",
    "         title = [\"Original\", \"Gradient\", \"Minima\", \"Label\"])"
   ]
  },
  {
   "cell_type": "code",
   "execution_count": null,
   "metadata": {},
   "outputs": [],
   "source": [
    "imgWS = sp.Image(img)\n",
    "imgBas = sp.Image(imgLabel)\n",
    "sp.watershed(imgGrad, imgLabel, imgWS, imgBas, se(2))\n",
    "imgSup = sp.Image(img)\n",
    "sp.sup(img, imgWS, imgSup)\n",
    "smilPlot([img, imgWS], [False, False],\n",
    "         [\"Original\", \"Watershed\"])\n",
    "smilPlot([imgBas, imgSup], [True],\n",
    "        title = [\"Bassins\", \"Original and Watershed\"])"
   ]
  },
  {
   "cell_type": "code",
   "execution_count": null,
   "metadata": {},
   "outputs": [],
   "source": []
  },
  {
   "cell_type": "code",
   "execution_count": null,
   "metadata": {},
   "outputs": [],
   "source": []
  }
 ],
 "metadata": {
  "kernelspec": {
   "display_name": "Python 3",
   "language": "python",
   "name": "python3"
  },
  "language_info": {
   "codemirror_mode": {
    "name": "ipython",
    "version": 3
   },
   "file_extension": ".py",
   "mimetype": "text/x-python",
   "name": "python",
   "nbconvert_exporter": "python",
   "pygments_lexer": "ipython3",
   "version": "3.6.7"
  }
 },
 "nbformat": 4,
 "nbformat_minor": 2
}
