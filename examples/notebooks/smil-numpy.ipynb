{
 "cells": [
  {
   "cell_type": "markdown",
   "metadata": {},
   "source": [
    "# Using NumPy"
   ]
  },
  {
   "cell_type": "code",
   "execution_count": null,
   "metadata": {},
   "outputs": [],
   "source": [
    "# import smilPython \n",
    "import smilPython as sp\n",
    "# functions using matplotlib to display images on jupyter notebooks\n",
    "from smilPlot import *\n",
    "\n",
    "import numpy as np"
   ]
  },
  {
   "cell_type": "markdown",
   "metadata": {},
   "source": [
    "## Let's begin\n"
   ]
  },
  {
   "cell_type": "code",
   "execution_count": null,
   "metadata": {},
   "outputs": [],
   "source": [
    "# Create an image\n",
    "dim = 512\n",
    "im = sp.Image(dim, dim)\n",
    "print(\"\")\n",
    "smilPlot([im], title = [\"Black square of side eq 512\"])\n",
    "#im1.show()\n",
    "\n",
    "# Create a numpy array containing the real image pixels\n",
    "imArr = im.getNumArray()\n",
    "\n",
    "# Display the dimensions of the created array\n",
    "print(\"Array dims:\", imArr.shape)"
   ]
  },
  {
   "cell_type": "code",
   "execution_count": null,
   "metadata": {},
   "outputs": [],
   "source": [
    "# Do something with the array...\n",
    "imArr[:] = 0\n",
    "\n",
    "radius, cx, cy = dim // 3, dim // 2, dim // 2 \n",
    "\n",
    "for i in range(0, radius):\n",
    "    for j in range(0, radius):\n",
    "        if i**2 + j**2 <= radius**2:\n",
    "            imArr[cx - i, cy - j] = 255\n",
    "            imArr[cx - i, cy + j] = 255\n",
    "            imArr[cx + i, cy - j] = 255\n",
    "            imArr[cx + i, cy + j] = 255\n",
    "\n",
    "# Show the modified image \n",
    "smilPlot([im])"
   ]
  },
  {
   "cell_type": "code",
   "execution_count": null,
   "metadata": {},
   "outputs": [],
   "source": []
  }
 ],
 "metadata": {
  "kernelspec": {
   "display_name": "Python 3",
   "language": "python",
   "name": "python3"
  },
  "language_info": {
   "codemirror_mode": {
    "name": "ipython",
    "version": 3
   },
   "file_extension": ".py",
   "mimetype": "text/x-python",
   "name": "python",
   "nbconvert_exporter": "python",
   "pygments_lexer": "ipython3",
   "version": "3.6.7"
  }
 },
 "nbformat": 4,
 "nbformat_minor": 2
}
