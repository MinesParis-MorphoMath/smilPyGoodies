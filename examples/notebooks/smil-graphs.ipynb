{
 "cells": [
  {
   "cell_type": "markdown",
   "metadata": {},
   "source": [
    "# Working on graphs"
   ]
  },
  {
   "cell_type": "code",
   "execution_count": null,
   "metadata": {},
   "outputs": [],
   "source": [
    "# import smilPython \n",
    "import smilPython as sp\n",
    "# functions using matplotlib to display images on jupyter notebooks\n",
    "from smilPlot import *\n",
    "\n",
    "import numpy as np"
   ]
  },
  {
   "cell_type": "markdown",
   "metadata": {},
   "source": [
    "## Let's begin\n"
   ]
  },
  {
   "cell_type": "code",
   "execution_count": null,
   "metadata": {},
   "outputs": [],
   "source": [
    "# Get an image\n",
    "imIn = sp.Image(\"http://smil.cmm.mines-paristech.fr/images/mosaic.png\")\n",
    "print(imIn)"
   ]
  },
  {
   "cell_type": "code",
   "execution_count": null,
   "metadata": {},
   "outputs": [],
   "source": [
    "# Allocate images with the same size but with UINT16 pixel data types\n",
    "imMos = sp.Image(imIn, \"UINT16\")\n",
    "imArea = sp.Image(imMos)\n",
    "imSeg = sp.Image(imMos)\n",
    "\n",
    "# Label imIn\n",
    "sp.label(imIn, imMos)\n",
    "sp.labelWithArea(imIn, imArea)\n",
    "\n",
    "g = sp.mosaicToGraph(imMos, imArea)\n",
    " \n",
    "sp.drawGraph(imMos, g, imSeg)\n",
    "imMos.getViewer().drawOverlay(imSeg)\n",
    " \n",
    "g.removeNodeEdges(3)\n",
    "sp.graphToMosaic(imMos, g, imSeg)\n",
    " \n",
    "smilPlot([imIn, imMos, imSeg], label = [False, True, True])"
   ]
  },
  {
   "cell_type": "code",
   "execution_count": null,
   "metadata": {},
   "outputs": [],
   "source": []
  }
 ],
 "metadata": {
  "kernelspec": {
   "display_name": "Python 3",
   "language": "python",
   "name": "python3"
  },
  "language_info": {
   "codemirror_mode": {
    "name": "ipython",
    "version": 3
   },
   "file_extension": ".py",
   "mimetype": "text/x-python",
   "name": "python",
   "nbconvert_exporter": "python",
   "pygments_lexer": "ipython3",
   "version": "3.6.7"
  }
 },
 "nbformat": 4,
 "nbformat_minor": 2
}
