{
 "cells": [
  {
   "cell_type": "markdown",
   "metadata": {},
   "source": [
    "# Basic Morphological operators"
   ]
  },
  {
   "cell_type": "markdown",
   "metadata": {},
   "source": [
    "### Initialization"
   ]
  },
  {
   "cell_type": "code",
   "execution_count": null,
   "metadata": {},
   "outputs": [],
   "source": [
    "# import smilPython \n",
    "import smilPython as sp\n",
    "# functions using matplotlib to display images on jupyter notebooks\n",
    "from smilPlot import *\n",
    "\n",
    "# some paths\n",
    "binDir  = \"images/Bin/\"\n",
    "grayDir = \"images/Gray/\""
   ]
  },
  {
   "cell_type": "markdown",
   "metadata": {},
   "source": [
    "## Binary Images"
   ]
  },
  {
   "cell_type": "code",
   "execution_count": null,
   "metadata": {},
   "outputs": [],
   "source": [
    "fbin = \"noise.png\"\n",
    "imb  = sp.Image(binDir + fbin)\n",
    "print(fbin + \"\\n------------\\n\", imb)\n",
    "# structuring element and its size\n",
    "se   = sp.HexSE()\n",
    "seSz = 1"
   ]
  },
  {
   "cell_type": "markdown",
   "metadata": {},
   "source": [
    "### Erosion / Dilation"
   ]
  },
  {
   "cell_type": "code",
   "execution_count": null,
   "metadata": {},
   "outputs": [],
   "source": [
    "imbe = sp.Image(imb)\n",
    "sp.erode(imb, imbe, se(seSz))\n",
    "\n",
    "imbd = sp.Image(imb)\n",
    "sp.dilate(imb, imbd, se(seSz))\n",
    "\n",
    "smilPlot([imb, imbe, imbd], title = [\"Original\", \"Erode\", \"Dilation\"])"
   ]
  },
  {
   "cell_type": "markdown",
   "metadata": {},
   "source": [
    "### Opening / Closing"
   ]
  },
  {
   "cell_type": "code",
   "execution_count": null,
   "metadata": {},
   "outputs": [],
   "source": [
    "imbo = sp.Image(imb)\n",
    "sp.open(imb, imbo, se(1))\n",
    "\n",
    "imbc = sp.Image(imb)\n",
    "sp.close(imb, imbc, se(1))\n",
    "\n",
    "smilPlot([imb, imbo, imbc], title = [\"Original\", \"Opening\", \"Closing\"])"
   ]
  },
  {
   "cell_type": "markdown",
   "metadata": {},
   "source": [
    "## Gray images"
   ]
  },
  {
   "cell_type": "code",
   "execution_count": null,
   "metadata": {},
   "outputs": [],
   "source": [
    "fgray = \"lena.png\"\n",
    "img   = sp.Image(grayDir + fgray)\n",
    "print(fgray + \"\\n------------\\n\", img)\n",
    "# structuring element et sa taille\n",
    "se   = sp.HexSE()\n",
    "seSz = 2"
   ]
  },
  {
   "cell_type": "markdown",
   "metadata": {},
   "source": [
    "### Erosion / Dilation"
   ]
  },
  {
   "cell_type": "code",
   "execution_count": null,
   "metadata": {},
   "outputs": [],
   "source": [
    "imge = sp.Image(img)\n",
    "sp.erode(img, imge, se(seSz))\n",
    "\n",
    "imgd = sp.Image(img)\n",
    "sp.dilate(img, imgd, se(seSz))\n",
    "\n",
    "smilPlot([img, imge, imgd], title = [\"Original\", \"Erode\", \"Dilation\"])"
   ]
  },
  {
   "cell_type": "markdown",
   "metadata": {},
   "source": [
    "### Opening / Closing"
   ]
  },
  {
   "cell_type": "code",
   "execution_count": null,
   "metadata": {},
   "outputs": [],
   "source": [
    "imgo = sp.Image(img)\n",
    "sp.open(img, imgo, se(seSz))\n",
    "\n",
    "imgc = sp.Image(img)\n",
    "sp.close(img, imgc, se(seSz))\n",
    "\n",
    "smilPlot([img, imgo, imgc], title = [\"Original\", \"Opening\", \"Closing\"])"
   ]
  },
  {
   "cell_type": "code",
   "execution_count": null,
   "metadata": {},
   "outputs": [],
   "source": []
  }
 ],
 "metadata": {
  "celltoolbar": "Raw Cell Format",
  "kernelspec": {
   "display_name": "Python 3",
   "language": "python",
   "name": "python3"
  },
  "language_info": {
   "codemirror_mode": {
    "name": "ipython",
    "version": 3
   },
   "file_extension": ".py",
   "mimetype": "text/x-python",
   "name": "python",
   "nbconvert_exporter": "python",
   "pygments_lexer": "ipython3",
   "version": "3.6.7"
  }
 },
 "nbformat": 4,
 "nbformat_minor": 2
}
